{
 "cells": [
  {
   "cell_type": "markdown",
   "source": [
    "# Train classifier for dry fingerprints on stress, strain, strain rate?"
   ],
   "metadata": {}
  },
  {
   "cell_type": "code",
   "execution_count": 1,
   "source": [
    "%matplotlib inline\n",
    "import matplotlib.pyplot as plt\n",
    "import numpy as np\n",
    "import pandas as pd\n",
    "from sklearn.preprocessing import scale\n",
    "\n",
    "from sklearn.model_selection import train_test_split\n",
    "from sklearn.model_selection import cross_val_score\n",
    "import h5py\n",
    "from time import time\n",
    "#import seaborn as sns\n",
    "#sns.set_theme(style=None)\n",
    "# classifiers\n",
    "from sklearn.ensemble import RandomForestRegressor\n",
    "#from sklearn.naive_bayes import GaussianNB\n",
    "from sklearn.neural_network import MLPRegressor\n",
    "#from sklearn.neighbors import KNeighborsClassifier\n",
    "#from sklearn.linear_model import R\n"
   ],
   "outputs": [],
   "metadata": {}
  },
  {
   "cell_type": "markdown",
   "source": [
    "## Classification workflow\n",
    "\n",
    "1. Load dataset\n",
    "2. Transform to features, if necessary\n",
    "3. Feature scaling\n",
    "4. Dimensionality reduction,if necessary\n",
    "5. Test train split\n",
    "6. Create classifier\n",
    "7. Train classifiers with cross fold validation\n",
    "    - Hyperparameter optimization\n",
    "8. Evaluate"
   ],
   "metadata": {}
  },
  {
   "cell_type": "markdown",
   "source": [
    "## Load Data"
   ],
   "metadata": {}
  },
  {
   "cell_type": "code",
   "execution_count": 2,
   "source": [
    "# fingerprints\n",
    "with h5py.File('../data/raw/specufex_results.h5', 'r') as file:\n",
    "    fprints = file['fprints'][:]\n",
    "    gams = file['gams'][:]\n",
    "    Vs = file['Vs'][:]\n",
    "\n",
    "# labels\n",
    "with h5py.File('../data/raw/allAes.h5','r') as file:\n",
    "    labels = file['labels'][:]\n",
    "    sgrams = file['sgrams'][:]\n",
    "    print(file.keys())"
   ],
   "outputs": [
    {
     "output_type": "stream",
     "name": "stdout",
     "text": [
      "<KeysViewHDF5 ['labels', 'sgrams']>\n"
     ]
    }
   ],
   "metadata": {}
  },
  {
   "cell_type": "code",
   "execution_count": 3,
   "source": [
    "# labels: 0 - dry, 1 - wet\n",
    "# first 5471 should be dry - confirm\n",
    "len(labels) - np.sum(labels)\n",
    "\n",
    "# But only a subset have mechanical data associated - need to figure that out from dataprep.ipynb\n",
    "dryAE_cat = pd.read_csv(\"../data/processed/dryAE_cat.csv\")\n",
    "dry_mechdata = pd.read_csv(\"../data/processed/dry_events_with_mechdata.csv\")\n",
    "\n",
    "# trim to dry ones only\n",
    "fprints = fprints[:5471]"
   ],
   "outputs": [],
   "metadata": {}
  },
  {
   "cell_type": "code",
   "execution_count": 4,
   "source": [
    "#dryAE_cat = dryAE_cat.drop(\"Unnamed: 0\",axis=1)\n",
    "dryAE_cat.columns = [\"orig_index\",\"seconds\",\"event_ID\",\"event_ID_orig\"]\n",
    "dryAE_cat"
   ],
   "outputs": [
    {
     "output_type": "execute_result",
     "data": {
      "text/html": [
       "<div>\n",
       "<style scoped>\n",
       "    .dataframe tbody tr th:only-of-type {\n",
       "        vertical-align: middle;\n",
       "    }\n",
       "\n",
       "    .dataframe tbody tr th {\n",
       "        vertical-align: top;\n",
       "    }\n",
       "\n",
       "    .dataframe thead th {\n",
       "        text-align: right;\n",
       "    }\n",
       "</style>\n",
       "<table border=\"1\" class=\"dataframe\">\n",
       "  <thead>\n",
       "    <tr style=\"text-align: right;\">\n",
       "      <th></th>\n",
       "      <th>orig_index</th>\n",
       "      <th>seconds</th>\n",
       "      <th>event_ID</th>\n",
       "      <th>event_ID_orig</th>\n",
       "    </tr>\n",
       "  </thead>\n",
       "  <tbody>\n",
       "    <tr>\n",
       "      <th>0</th>\n",
       "      <td>0</td>\n",
       "      <td>0</td>\n",
       "      <td>2020.008.393241.142361506</td>\n",
       "      <td>142361506</td>\n",
       "    </tr>\n",
       "    <tr>\n",
       "      <th>1</th>\n",
       "      <td>1</td>\n",
       "      <td>1284</td>\n",
       "      <td>2020.008.395405.143645590</td>\n",
       "      <td>143645590</td>\n",
       "    </tr>\n",
       "    <tr>\n",
       "      <th>2</th>\n",
       "      <td>2</td>\n",
       "      <td>3196</td>\n",
       "      <td>2020.008.402557.145557856</td>\n",
       "      <td>145557856</td>\n",
       "    </tr>\n",
       "    <tr>\n",
       "      <th>3</th>\n",
       "      <td>3</td>\n",
       "      <td>3496</td>\n",
       "      <td>2020.008.403057.145857607</td>\n",
       "      <td>145857607</td>\n",
       "    </tr>\n",
       "    <tr>\n",
       "      <th>4</th>\n",
       "      <td>4</td>\n",
       "      <td>4921</td>\n",
       "      <td>2020.008.405442.147282610</td>\n",
       "      <td>147282610</td>\n",
       "    </tr>\n",
       "    <tr>\n",
       "      <th>...</th>\n",
       "      <td>...</td>\n",
       "      <td>...</td>\n",
       "      <td>...</td>\n",
       "      <td>...</td>\n",
       "    </tr>\n",
       "    <tr>\n",
       "      <th>5466</th>\n",
       "      <td>5466</td>\n",
       "      <td>572745</td>\n",
       "      <td>2020.015.1983826.715106760</td>\n",
       "      <td>715106760</td>\n",
       "    </tr>\n",
       "    <tr>\n",
       "      <th>5467</th>\n",
       "      <td>5467</td>\n",
       "      <td>574434</td>\n",
       "      <td>2020.015.1990636.716796490</td>\n",
       "      <td>716796490</td>\n",
       "    </tr>\n",
       "    <tr>\n",
       "      <th>5468</th>\n",
       "      <td>5468</td>\n",
       "      <td>574437</td>\n",
       "      <td>2020.015.1990638.716798597</td>\n",
       "      <td>716798597</td>\n",
       "    </tr>\n",
       "    <tr>\n",
       "      <th>5469</th>\n",
       "      <td>5469</td>\n",
       "      <td>575584</td>\n",
       "      <td>2020.015.1992545.717945520</td>\n",
       "      <td>717945520</td>\n",
       "    </tr>\n",
       "    <tr>\n",
       "      <th>5470</th>\n",
       "      <td>5470</td>\n",
       "      <td>580939</td>\n",
       "      <td>2020.015.2005500.723300795</td>\n",
       "      <td>723300795</td>\n",
       "    </tr>\n",
       "  </tbody>\n",
       "</table>\n",
       "<p>5471 rows × 4 columns</p>\n",
       "</div>"
      ],
      "text/plain": [
       "      orig_index  seconds                    event_ID  event_ID_orig\n",
       "0              0        0   2020.008.393241.142361506      142361506\n",
       "1              1     1284   2020.008.395405.143645590      143645590\n",
       "2              2     3196   2020.008.402557.145557856      145557856\n",
       "3              3     3496   2020.008.403057.145857607      145857607\n",
       "4              4     4921   2020.008.405442.147282610      147282610\n",
       "...          ...      ...                         ...            ...\n",
       "5466        5466   572745  2020.015.1983826.715106760      715106760\n",
       "5467        5467   574434  2020.015.1990636.716796490      716796490\n",
       "5468        5468   574437  2020.015.1990638.716798597      716798597\n",
       "5469        5469   575584  2020.015.1992545.717945520      717945520\n",
       "5470        5470   580939  2020.015.2005500.723300795      723300795\n",
       "\n",
       "[5471 rows x 4 columns]"
      ]
     },
     "metadata": {},
     "execution_count": 4
    }
   ],
   "metadata": {}
  },
  {
   "cell_type": "code",
   "execution_count": 5,
   "source": [
    "dry_mechdata"
   ],
   "outputs": [
    {
     "output_type": "execute_result",
     "data": {
      "text/html": [
       "<div>\n",
       "<style scoped>\n",
       "    .dataframe tbody tr th:only-of-type {\n",
       "        vertical-align: middle;\n",
       "    }\n",
       "\n",
       "    .dataframe tbody tr th {\n",
       "        vertical-align: top;\n",
       "    }\n",
       "\n",
       "    .dataframe thead th {\n",
       "        text-align: right;\n",
       "    }\n",
       "</style>\n",
       "<table border=\"1\" class=\"dataframe\">\n",
       "  <thead>\n",
       "    <tr style=\"text-align: right;\">\n",
       "      <th></th>\n",
       "      <th>Unnamed: 0</th>\n",
       "      <th>seconds</th>\n",
       "      <th>event_ID</th>\n",
       "      <th>event_ID_orig</th>\n",
       "      <th>t_def</th>\n",
       "      <th>Disp_mm</th>\n",
       "      <th>Sig_diff_MPa</th>\n",
       "      <th>Strain_ax</th>\n",
       "      <th>Temp</th>\n",
       "      <th>events_cumulative</th>\n",
       "    </tr>\n",
       "  </thead>\n",
       "  <tbody>\n",
       "    <tr>\n",
       "      <th>0</th>\n",
       "      <td>51</td>\n",
       "      <td>83176.0</td>\n",
       "      <td>2020.009.623857.225537977</td>\n",
       "      <td>225537977</td>\n",
       "      <td>83176</td>\n",
       "      <td>1.50696</td>\n",
       "      <td>7.6197</td>\n",
       "      <td>0.000184</td>\n",
       "      <td>78.2065</td>\n",
       "      <td>0</td>\n",
       "    </tr>\n",
       "    <tr>\n",
       "      <th>1</th>\n",
       "      <td>146</td>\n",
       "      <td>83271.0</td>\n",
       "      <td>2020.009.624033.225633151</td>\n",
       "      <td>225633151</td>\n",
       "      <td>83271</td>\n",
       "      <td>1.53385</td>\n",
       "      <td>10.2866</td>\n",
       "      <td>0.000533</td>\n",
       "      <td>78.1337</td>\n",
       "      <td>1</td>\n",
       "    </tr>\n",
       "    <tr>\n",
       "      <th>2</th>\n",
       "      <td>167</td>\n",
       "      <td>83292.0</td>\n",
       "      <td>2020.009.624053.225653637</td>\n",
       "      <td>225653637</td>\n",
       "      <td>83292</td>\n",
       "      <td>1.53809</td>\n",
       "      <td>11.0485</td>\n",
       "      <td>0.000588</td>\n",
       "      <td>78.1701</td>\n",
       "      <td>2</td>\n",
       "    </tr>\n",
       "    <tr>\n",
       "      <th>3</th>\n",
       "      <td>292</td>\n",
       "      <td>83417.0</td>\n",
       "      <td>2020.009.624259.225779480</td>\n",
       "      <td>225779480</td>\n",
       "      <td>83417</td>\n",
       "      <td>1.56922</td>\n",
       "      <td>14.8584</td>\n",
       "      <td>0.000992</td>\n",
       "      <td>78.1701</td>\n",
       "      <td>3</td>\n",
       "    </tr>\n",
       "    <tr>\n",
       "      <th>4</th>\n",
       "      <td>300</td>\n",
       "      <td>83425.0</td>\n",
       "      <td>2020.009.624307.225787413</td>\n",
       "      <td>225787413</td>\n",
       "      <td>83425</td>\n",
       "      <td>1.57205</td>\n",
       "      <td>15.2394</td>\n",
       "      <td>0.001029</td>\n",
       "      <td>78.2065</td>\n",
       "      <td>4</td>\n",
       "    </tr>\n",
       "    <tr>\n",
       "      <th>...</th>\n",
       "      <td>...</td>\n",
       "      <td>...</td>\n",
       "      <td>...</td>\n",
       "      <td>...</td>\n",
       "      <td>...</td>\n",
       "      <td>...</td>\n",
       "      <td>...</td>\n",
       "      <td>...</td>\n",
       "      <td>...</td>\n",
       "      <td>...</td>\n",
       "    </tr>\n",
       "    <tr>\n",
       "      <th>5130</th>\n",
       "      <td>416943</td>\n",
       "      <td>572745.0</td>\n",
       "      <td>2020.015.1983826.715106760</td>\n",
       "      <td>715106760</td>\n",
       "      <td>572745</td>\n",
       "      <td>5.18451</td>\n",
       "      <td>105.9138</td>\n",
       "      <td>0.047932</td>\n",
       "      <td>80.6453</td>\n",
       "      <td>5130</td>\n",
       "    </tr>\n",
       "    <tr>\n",
       "      <th>5131</th>\n",
       "      <td>418632</td>\n",
       "      <td>574434.0</td>\n",
       "      <td>2020.015.1990636.716796490</td>\n",
       "      <td>716796490</td>\n",
       "      <td>574434</td>\n",
       "      <td>5.18451</td>\n",
       "      <td>105.9138</td>\n",
       "      <td>0.047932</td>\n",
       "      <td>80.6817</td>\n",
       "      <td>5131</td>\n",
       "    </tr>\n",
       "    <tr>\n",
       "      <th>5132</th>\n",
       "      <td>418635</td>\n",
       "      <td>574437.0</td>\n",
       "      <td>2020.015.1990638.716798597</td>\n",
       "      <td>716798597</td>\n",
       "      <td>574437</td>\n",
       "      <td>5.18451</td>\n",
       "      <td>105.9138</td>\n",
       "      <td>0.047932</td>\n",
       "      <td>80.7545</td>\n",
       "      <td>5132</td>\n",
       "    </tr>\n",
       "    <tr>\n",
       "      <th>5133</th>\n",
       "      <td>419782</td>\n",
       "      <td>575584.0</td>\n",
       "      <td>2020.015.1992545.717945520</td>\n",
       "      <td>717945520</td>\n",
       "      <td>575584</td>\n",
       "      <td>5.18451</td>\n",
       "      <td>105.9138</td>\n",
       "      <td>0.047932</td>\n",
       "      <td>80.6817</td>\n",
       "      <td>5133</td>\n",
       "    </tr>\n",
       "    <tr>\n",
       "      <th>5134</th>\n",
       "      <td>425137</td>\n",
       "      <td>580939.0</td>\n",
       "      <td>2020.015.2005500.723300795</td>\n",
       "      <td>723300795</td>\n",
       "      <td>580939</td>\n",
       "      <td>5.18451</td>\n",
       "      <td>105.9138</td>\n",
       "      <td>0.047932</td>\n",
       "      <td>80.7545</td>\n",
       "      <td>5134</td>\n",
       "    </tr>\n",
       "  </tbody>\n",
       "</table>\n",
       "<p>5135 rows × 10 columns</p>\n",
       "</div>"
      ],
      "text/plain": [
       "      Unnamed: 0   seconds                    event_ID  event_ID_orig   t_def  \\\n",
       "0             51   83176.0   2020.009.623857.225537977      225537977   83176   \n",
       "1            146   83271.0   2020.009.624033.225633151      225633151   83271   \n",
       "2            167   83292.0   2020.009.624053.225653637      225653637   83292   \n",
       "3            292   83417.0   2020.009.624259.225779480      225779480   83417   \n",
       "4            300   83425.0   2020.009.624307.225787413      225787413   83425   \n",
       "...          ...       ...                         ...            ...     ...   \n",
       "5130      416943  572745.0  2020.015.1983826.715106760      715106760  572745   \n",
       "5131      418632  574434.0  2020.015.1990636.716796490      716796490  574434   \n",
       "5132      418635  574437.0  2020.015.1990638.716798597      716798597  574437   \n",
       "5133      419782  575584.0  2020.015.1992545.717945520      717945520  575584   \n",
       "5134      425137  580939.0  2020.015.2005500.723300795      723300795  580939   \n",
       "\n",
       "      Disp_mm  Sig_diff_MPa  Strain_ax     Temp  events_cumulative  \n",
       "0     1.50696        7.6197   0.000184  78.2065                  0  \n",
       "1     1.53385       10.2866   0.000533  78.1337                  1  \n",
       "2     1.53809       11.0485   0.000588  78.1701                  2  \n",
       "3     1.56922       14.8584   0.000992  78.1701                  3  \n",
       "4     1.57205       15.2394   0.001029  78.2065                  4  \n",
       "...       ...           ...        ...      ...                ...  \n",
       "5130  5.18451      105.9138   0.047932  80.6453               5130  \n",
       "5131  5.18451      105.9138   0.047932  80.6817               5131  \n",
       "5132  5.18451      105.9138   0.047932  80.7545               5132  \n",
       "5133  5.18451      105.9138   0.047932  80.6817               5133  \n",
       "5134  5.18451      105.9138   0.047932  80.7545               5134  \n",
       "\n",
       "[5135 rows x 10 columns]"
      ]
     },
     "metadata": {},
     "execution_count": 5
    }
   ],
   "metadata": {}
  },
  {
   "cell_type": "code",
   "execution_count": 6,
   "source": [
    "events_with_mech_data_index = dry_mechdata.merge(dryAE_cat, left_on=\"event_ID_orig\", right_on=\"event_ID_orig\", how=\"inner\").orig_index.values\n",
    "events_with_mech_data_index"
   ],
   "outputs": [
    {
     "output_type": "execute_result",
     "data": {
      "text/plain": [
       "array([ 105,  106,  107, ..., 5468, 5469, 5470])"
      ]
     },
     "metadata": {},
     "execution_count": 6
    }
   ],
   "metadata": {}
  },
  {
   "cell_type": "code",
   "execution_count": 7,
   "source": [
    "#Now can use these index vales to selct the fingerprints that have mechanical data associated\n",
    "\n",
    "fprints = fprints[events_with_mech_data_index]"
   ],
   "outputs": [],
   "metadata": {}
  },
  {
   "cell_type": "code",
   "execution_count": 8,
   "source": [
    "# reshape fprints into vector\n",
    "fprints = fprints.reshape(fprints.shape[0], fprints.shape[1]*fprints.shape[2])\n",
    "X_scaled = scale(fprints)\n",
    "y_scaled = scale(dry_mechdata.Strain_ax.values)\n",
    "y = dry_mechdata.Strain_ax.values"
   ],
   "outputs": [],
   "metadata": {}
  },
  {
   "cell_type": "code",
   "execution_count": 9,
   "source": [
    "# Split into test and train datasets.\n",
    "# Train on differential stress first\n",
    "\n",
    "X_train, X_test, y_train, y_test = train_test_split(X_scaled,y)"
   ],
   "outputs": [],
   "metadata": {}
  },
  {
   "cell_type": "code",
   "execution_count": 10,
   "source": [
    "names = [\"Random Forest\", \"MLP\"]\n",
    "# MLPClassifier is a multilayer perceptron (fully connected) neural network\n",
    "#\"Nearest Neighbors\",\n",
    "#'MLPClassifier',\n",
    "classifiers = [\n",
    "    #KNeighborsClassifier(3),\n",
    "    RandomForestRegressor(max_depth=100, n_estimators=100, max_features=50),\n",
    "    MLPRegressor(hidden_layer_sizes=(16,32), alpha=1, max_iter=10000),\n",
    "    #GaussianNB(),\n",
    "    #LogisticRegression(max_iter=1000),\n",
    "    #LogisticRegression(penalty='l1', C=0.01, solver='liblinear')\n",
    "    ]\n",
    "\n",
    "fit_classifiers = dict()\n",
    "\n",
    "for name, clf in zip(names, classifiers):\n",
    "    t0 = time()\n",
    "    scores = cross_val_score(clf, X_train, y_train, cv=5)\n",
    "    clf.fit(X_train, y_train)\n",
    "    fit_classifiers[name] = clf\n",
    "    delta_t = time() - t0\n",
    "    print(f'{name}: validation score: {np.mean(scores)}, test score: {clf.score(X_test, y_test)}, time: {delta_t}')"
   ],
   "outputs": [
    {
     "output_type": "stream",
     "name": "stdout",
     "text": [
      "Random Forest: validation score: 0.0978963156996415, test score: 0.08029708365524246, time: 33.17262887954712\n",
      "MLP: validation score: 0.06867024493507339, test score: 0.07294286150573981, time: 7.052791118621826\n"
     ]
    }
   ],
   "metadata": {}
  },
  {
   "cell_type": "code",
   "execution_count": 11,
   "source": [
    "RF = fit_classifiers[\"Random Forest\"]\n",
    "MLP = fit_classifiers[\"MLP\"]"
   ],
   "outputs": [],
   "metadata": {}
  },
  {
   "cell_type": "code",
   "execution_count": 12,
   "source": [
    "plt.scatter(y_train, RF.predict(X_train), label=\"Training set\")\n",
    "plt.scatter(y_test, RF.predict(X_test), label=\"Test set\")\n",
    "plt.legend()\n",
    "plt.xlabel(\"True\")\n",
    "plt.ylabel(\"Predicted\")\n",
    "plt.title(\"Random Forest Classifier\")\n",
    "plt.show()"
   ],
   "outputs": [
    {
     "output_type": "display_data",
     "data": {
      "image/png": "[encoded data removed]",
      "text/plain": [
       "<Figure size 432x288 with 1 Axes>"
      ]
     },
     "metadata": {
      "needs_background": "light"
     }
    }
   ],
   "metadata": {}
  },
  {
   "cell_type": "code",
   "execution_count": 13,
   "source": [
    "plt.scatter(y_train, MLP.predict(X_train), label=\"Training set\")\n",
    "plt.scatter(y_test, MLP.predict(X_test), label=\"Test set\")\n",
    "plt.legend()\n",
    "plt.xlabel(\"True\")\n",
    "plt.ylabel(\"Predicted\")\n",
    "plt.title(\"Multilayer Perceptron Classifier\")"
   ],
   "outputs": [
    {
     "output_type": "execute_result",
     "data": {
      "text/plain": [
       "Text(0.5, 1.0, 'Multilayer Perceptron Classifier')"
      ]
     },
     "metadata": {},
     "execution_count": 13
    },
    {
     "output_type": "display_data",
     "data": {
      "image/png": "[encoded data removed]",
      "text/plain": [
       "<Figure size 432x288 with 1 Axes>"
      ]
     },
     "metadata": {
      "needs_background": "light"
     }
    }
   ],
   "metadata": {}
  },
  {
   "cell_type": "code",
   "execution_count": null,
   "source": [],
   "outputs": [],
   "metadata": {}
  }
 ],
 "metadata": {
  "kernelspec": {
   "name": "python3",
   "display_name": "Python 3.8.12 64-bit ('ae_stress_classifier': conda)"
  },
  "language_info": {
   "codemirror_mode": {
    "name": "ipython",
    "version": 3
   },
   "file_extension": ".py",
   "mimetype": "text/x-python",
   "name": "python",
   "nbconvert_exporter": "python",
   "pygments_lexer": "ipython3",
   "version": "3.8.12"
  },
  "interpreter": {
   "hash": "e1c9df6f9069017aeb3a962bccc0382499e77a02be3699f3fe9ff1d14c96901f"
  }
 },
 "nbformat": 4,
 "nbformat_minor": 4
}